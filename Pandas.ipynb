{
  "nbformat": 4,
  "nbformat_minor": 0,
  "metadata": {
    "kernelspec": {
      "display_name": "Python 3",
      "language": "python",
      "name": "python3"
    },
    "language_info": {
      "codemirror_mode": {
        "name": "ipython",
        "version": 3
      },
      "file_extension": ".py",
      "mimetype": "text/x-python",
      "name": "python",
      "nbconvert_exporter": "python",
      "pygments_lexer": "ipython3",
      "version": "3.7.3"
    },
    "colab": {
      "name": "Pandas.ipynb",
      "provenance": [],
      "collapsed_sections": [
        "aYIW5R820peI",
        "jf_5s3w50pel",
        "msEcETEH0peq",
        "Equ29Elk0pet",
        "wIfIZUOc0pev",
        "X97krsEe0pex"
      ],
      "include_colab_link": true
    }
  },
  "cells": [
    {
      "cell_type": "markdown",
      "metadata": {
        "id": "view-in-github",
        "colab_type": "text"
      },
      "source": [
        "<a href=\"https://colab.research.google.com/github/Aniket3000/Assignments/blob/master/Pandas.ipynb\" target=\"_parent\"><img src=\"https://colab.research.google.com/assets/colab-badge.svg\" alt=\"Open In Colab\"/></a>"
      ]
    },
    {
      "cell_type": "markdown",
      "metadata": {
        "id": "z4unQhSf0pc3",
        "colab_type": "text"
      },
      "source": [
        "# <center>Introduction to Pandas</center>\n",
        "\n",
        "![](https://pandas.pydata.org/_static/pandas_logo.png)\n",
        "\n",
        "\n",
        "## Installation\n",
        "\n",
        "Simply,\n",
        "```\n",
        "pip install pandas\n",
        "```\n",
        "\n",
        "\n",
        "## Reading data from a CSV file\n",
        "\n",
        "You can read data from a CSV file using the ``read_csv`` function. By default, it assumes that the fields are comma-separated."
      ]
    },
    {
      "cell_type": "code",
      "metadata": {
        "id": "XUAx3oFO0pc7",
        "colab_type": "code",
        "outputId": "b6b01be8-ff6e-47fd-f920-90b83f18ff82",
        "colab": {
          "resources": {
            "http://localhost:8080/nbextensions/google.colab/files.js": {
              "data": "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",
              "ok": true,
              "headers": [
                [
                  "content-type",
                  "application/javascript"
                ]
              ],
              "status": 200,
              "status_text": ""
            }
          },
          "base_uri": "https://localhost:8080/",
          "height": 74
        }
      },
      "source": [
        "# import pandas\n",
        "import pandas as pd\n",
        "import numpy as np\n",
        "import matplotlib.pyplot as plt\n",
        "from google.colab import files\n",
        "#drive.mount('/content/drive')\n",
        "uploaded=files.upload()"
      ],
      "execution_count": 0,
      "outputs": [
        {
          "output_type": "display_data",
          "data": {
            "text/html": [
              "\n",
              "     <input type=\"file\" id=\"files-9a7e9245-e83f-498f-b98f-fabff0d8eb6a\" name=\"files[]\" multiple disabled />\n",
              "     <output id=\"result-9a7e9245-e83f-498f-b98f-fabff0d8eb6a\">\n",
              "      Upload widget is only available when the cell has been executed in the\n",
              "      current browser session. Please rerun this cell to enable.\n",
              "      </output>\n",
              "      <script src=\"/nbextensions/google.colab/files.js\"></script> "
            ],
            "text/plain": [
              "<IPython.core.display.HTML object>"
            ]
          },
          "metadata": {
            "tags": []
          }
        },
        {
          "output_type": "stream",
          "text": [
            "Saving imdb_1000.csv to imdb_1000.csv\n"
          ],
          "name": "stdout"
        }
      ]
    },
    {
      "cell_type": "markdown",
      "metadata": {
        "id": "S2Om70410pdE",
        "colab_type": "text"
      },
      "source": [
        ">The `imdb.csv` dataset contains Highest Rated IMDb \"Top 1000\" Titles."
      ]
    },
    {
      "cell_type": "code",
      "metadata": {
        "id": "yxkcIOIr0pdH",
        "colab_type": "code",
        "colab": {}
      },
      "source": [
        "# load imdb dataset as pandas dataframe\n",
        "import io\n",
        "df = pd.read_csv(io.BytesIO(uploaded['imdb_1000.csv']))"
      ],
      "execution_count": 0,
      "outputs": []
    },
    {
      "cell_type": "code",
      "metadata": {
        "id": "p7BlOTTE0pdN",
        "colab_type": "code",
        "outputId": "1c48ec4c-cc0e-48df-b260-805b28d2af85",
        "colab": {
          "base_uri": "https://localhost:8080/",
          "height": 195
        }
      },
      "source": [
        "\"\"# show first 5 rows of imdb_df\n",
        "df.head()"
      ],
      "execution_count": 0,
      "outputs": [
        {
          "output_type": "execute_result",
          "data": {
            "text/html": [
              "<div>\n",
              "<style scoped>\n",
              "    .dataframe tbody tr th:only-of-type {\n",
              "        vertical-align: middle;\n",
              "    }\n",
              "\n",
              "    .dataframe tbody tr th {\n",
              "        vertical-align: top;\n",
              "    }\n",
              "\n",
              "    .dataframe thead th {\n",
              "        text-align: right;\n",
              "    }\n",
              "</style>\n",
              "<table border=\"1\" class=\"dataframe\">\n",
              "  <thead>\n",
              "    <tr style=\"text-align: right;\">\n",
              "      <th></th>\n",
              "      <th>star_rating</th>\n",
              "      <th>title</th>\n",
              "      <th>content_rating</th>\n",
              "      <th>genre</th>\n",
              "      <th>duration</th>\n",
              "      <th>actors_list</th>\n",
              "    </tr>\n",
              "  </thead>\n",
              "  <tbody>\n",
              "    <tr>\n",
              "      <th>0</th>\n",
              "      <td>9.3</td>\n",
              "      <td>The Shawshank Redemption</td>\n",
              "      <td>R</td>\n",
              "      <td>Crime</td>\n",
              "      <td>142</td>\n",
              "      <td>[u'Tim Robbins', u'Morgan Freeman', u'Bob Gunt...</td>\n",
              "    </tr>\n",
              "    <tr>\n",
              "      <th>1</th>\n",
              "      <td>9.2</td>\n",
              "      <td>The Godfather</td>\n",
              "      <td>R</td>\n",
              "      <td>Crime</td>\n",
              "      <td>175</td>\n",
              "      <td>[u'Marlon Brando', u'Al Pacino', u'James Caan']</td>\n",
              "    </tr>\n",
              "    <tr>\n",
              "      <th>2</th>\n",
              "      <td>9.1</td>\n",
              "      <td>The Godfather: Part II</td>\n",
              "      <td>R</td>\n",
              "      <td>Crime</td>\n",
              "      <td>200</td>\n",
              "      <td>[u'Al Pacino', u'Robert De Niro', u'Robert Duv...</td>\n",
              "    </tr>\n",
              "    <tr>\n",
              "      <th>3</th>\n",
              "      <td>9.0</td>\n",
              "      <td>The Dark Knight</td>\n",
              "      <td>PG-13</td>\n",
              "      <td>Action</td>\n",
              "      <td>152</td>\n",
              "      <td>[u'Christian Bale', u'Heath Ledger', u'Aaron E...</td>\n",
              "    </tr>\n",
              "    <tr>\n",
              "      <th>4</th>\n",
              "      <td>8.9</td>\n",
              "      <td>Pulp Fiction</td>\n",
              "      <td>R</td>\n",
              "      <td>Crime</td>\n",
              "      <td>154</td>\n",
              "      <td>[u'John Travolta', u'Uma Thurman', u'Samuel L....</td>\n",
              "    </tr>\n",
              "  </tbody>\n",
              "</table>\n",
              "</div>"
            ],
            "text/plain": [
              "   star_rating  ...                                        actors_list\n",
              "0          9.3  ...  [u'Tim Robbins', u'Morgan Freeman', u'Bob Gunt...\n",
              "1          9.2  ...    [u'Marlon Brando', u'Al Pacino', u'James Caan']\n",
              "2          9.1  ...  [u'Al Pacino', u'Robert De Niro', u'Robert Duv...\n",
              "3          9.0  ...  [u'Christian Bale', u'Heath Ledger', u'Aaron E...\n",
              "4          8.9  ...  [u'John Travolta', u'Uma Thurman', u'Samuel L....\n",
              "\n",
              "[5 rows x 6 columns]"
            ]
          },
          "metadata": {
            "tags": []
          },
          "execution_count": 5
        }
      ]
    },
    {
      "cell_type": "markdown",
      "metadata": {
        "id": "lv1-RW1v0pdX",
        "colab_type": "text"
      },
      "source": [
        ">The `bikes.csv` dataset contains information about the number of bicycles that used certain bicycle lanes in Montreal in the year 2012."
      ]
    },
    {
      "cell_type": "code",
      "metadata": {
        "id": "_hfrskey0pdZ",
        "colab_type": "code",
        "outputId": "71ef86aa-e72c-4b00-8706-c99d6ffc8e2d",
        "colab": {
          "resources": {
            "http://localhost:8080/nbextensions/google.colab/files.js": {
              "data": "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",
              "ok": true,
              "headers": [
                [
                  "content-type",
                  "application/javascript"
                ]
              ],
              "status": 200,
              "status_text": ""
            }
          },
          "base_uri": "https://localhost:8080/",
          "height": 74
        }
      },
      "source": [
        "# load bikes dataset as pandas dataframe\n",
        "uploaded=files.upload()\n",
        "df2= pd.read_csv(io.BytesIO(uploaded['bikes.csv']))"
      ],
      "execution_count": 0,
      "outputs": [
        {
          "output_type": "display_data",
          "data": {
            "text/html": [
              "\n",
              "     <input type=\"file\" id=\"files-5b074bbe-624d-47de-9df6-e9d016da5c5f\" name=\"files[]\" multiple disabled />\n",
              "     <output id=\"result-5b074bbe-624d-47de-9df6-e9d016da5c5f\">\n",
              "      Upload widget is only available when the cell has been executed in the\n",
              "      current browser session. Please rerun this cell to enable.\n",
              "      </output>\n",
              "      <script src=\"/nbextensions/google.colab/files.js\"></script> "
            ],
            "text/plain": [
              "<IPython.core.display.HTML object>"
            ]
          },
          "metadata": {
            "tags": []
          }
        },
        {
          "output_type": "stream",
          "text": [
            "Saving bikes.csv to bikes.csv\n"
          ],
          "name": "stdout"
        }
      ]
    },
    {
      "cell_type": "code",
      "metadata": {
        "id": "5G_OvUZd0pdg",
        "colab_type": "code",
        "outputId": "4ae89ff4-cd7e-4803-dfb8-5c7b21ff19a0",
        "colab": {
          "base_uri": "https://localhost:8080/",
          "height": 136
        }
      },
      "source": [
        "# show first 3 rows of bikes_df\n",
        "df2.head(3)"
      ],
      "execution_count": 0,
      "outputs": [
        {
          "output_type": "execute_result",
          "data": {
            "text/html": [
              "<div>\n",
              "<style scoped>\n",
              "    .dataframe tbody tr th:only-of-type {\n",
              "        vertical-align: middle;\n",
              "    }\n",
              "\n",
              "    .dataframe tbody tr th {\n",
              "        vertical-align: top;\n",
              "    }\n",
              "\n",
              "    .dataframe thead th {\n",
              "        text-align: right;\n",
              "    }\n",
              "</style>\n",
              "<table border=\"1\" class=\"dataframe\">\n",
              "  <thead>\n",
              "    <tr style=\"text-align: right;\">\n",
              "      <th></th>\n",
              "      <th>Date;;Rachel / Papineau;Berri1;Maisonneuve_2;Maisonneuve_1;Brébeuf;Parc;PierDup;CSC (Côte Sainte-Catherine);Pont_Jacques_Cartier</th>\n",
              "    </tr>\n",
              "  </thead>\n",
              "  <tbody>\n",
              "    <tr>\n",
              "      <th>0</th>\n",
              "      <td>01/01/2012;00:00;16;35;51;38;5;26;10;0;27</td>\n",
              "    </tr>\n",
              "    <tr>\n",
              "      <th>1</th>\n",
              "      <td>02/01/2012;00:00;43;83;153;68;11;53;6;1;21</td>\n",
              "    </tr>\n",
              "    <tr>\n",
              "      <th>2</th>\n",
              "      <td>03/01/2012;00:00;58;135;248;104;2;89;3;2;15</td>\n",
              "    </tr>\n",
              "  </tbody>\n",
              "</table>\n",
              "</div>"
            ],
            "text/plain": [
              "  Date;;Rachel / Papineau;Berri1;Maisonneuve_2;Maisonneuve_1;Brébeuf;Parc;PierDup;CSC (Côte Sainte-Catherine);Pont_Jacques_Cartier\n",
              "0          01/01/2012;00:00;16;35;51;38;5;26;10;0;27                                                                              \n",
              "1         02/01/2012;00:00;43;83;153;68;11;53;6;1;21                                                                              \n",
              "2        03/01/2012;00:00;58;135;248;104;2;89;3;2;15                                                                              "
            ]
          },
          "metadata": {
            "tags": []
          },
          "execution_count": 10
        }
      ]
    },
    {
      "cell_type": "markdown",
      "metadata": {
        "id": "DtHaU5CM0pdm",
        "colab_type": "text"
      },
      "source": [
        "## Selecting columns\n",
        "\n",
        "When you read a CSV, you get a kind of object called a DataFrame, which is made up of rows and columns. You get columns out of a DataFrame the same way you get elements out of a dictionary."
      ]
    },
    {
      "cell_type": "code",
      "metadata": {
        "id": "JCyVR9-Q0pdo",
        "colab_type": "code",
        "outputId": "352ddd23-9bed-48f8-ac8d-fc1e4c9191ea",
        "colab": {
          "base_uri": "https://localhost:8080/",
          "height": 1000
        }
      },
      "source": [
        "# list columns of imdb_df\n",
        "df[\"title\"].tolist()"
      ],
      "execution_count": 0,
      "outputs": [
        {
          "output_type": "execute_result",
          "data": {
            "text/plain": [
              "['The Shawshank Redemption',\n",
              " 'The Godfather',\n",
              " 'The Godfather: Part II',\n",
              " 'The Dark Knight',\n",
              " 'Pulp Fiction',\n",
              " '12 Angry Men',\n",
              " 'The Good, the Bad and the Ugly',\n",
              " 'The Lord of the Rings: The Return of the King',\n",
              " \"Schindler's List\",\n",
              " 'Fight Club',\n",
              " 'The Lord of the Rings: The Fellowship of the Ring',\n",
              " 'Inception',\n",
              " 'Star Wars: Episode V - The Empire Strikes Back',\n",
              " 'Forrest Gump',\n",
              " 'The Lord of the Rings: The Two Towers',\n",
              " 'Interstellar',\n",
              " \"One Flew Over the Cuckoo's Nest\",\n",
              " 'Seven Samurai',\n",
              " 'Goodfellas',\n",
              " 'Star Wars',\n",
              " 'The Matrix',\n",
              " 'City of God',\n",
              " \"It's a Wonderful Life\",\n",
              " 'The Usual Suspects',\n",
              " 'Se7en',\n",
              " 'Life Is Beautiful',\n",
              " 'Once Upon a Time in the West',\n",
              " 'The Silence of the Lambs',\n",
              " 'Leon: The Professional',\n",
              " 'City Lights',\n",
              " 'Spirited Away',\n",
              " 'The Intouchables',\n",
              " 'Casablanca',\n",
              " 'Whiplash',\n",
              " 'American History X',\n",
              " 'Modern Times',\n",
              " 'Saving Private Ryan',\n",
              " 'Raiders of the Lost Ark',\n",
              " 'Rear Window',\n",
              " 'Psycho',\n",
              " 'The Green Mile',\n",
              " 'Sunset Blvd.',\n",
              " 'The Pianist',\n",
              " 'The Dark Knight Rises',\n",
              " 'Gladiator',\n",
              " 'Terminator 2: Judgment Day',\n",
              " 'Memento',\n",
              " 'Taare Zameen Par',\n",
              " 'Dr. Strangelove or: How I Learned to Stop Worrying and Love the Bomb',\n",
              " 'The Departed',\n",
              " 'Cinema Paradiso',\n",
              " 'Apocalypse Now',\n",
              " 'The Great Dictator',\n",
              " 'The Prestige',\n",
              " 'Back to the Future',\n",
              " 'The Lion King',\n",
              " 'The Lives of Others',\n",
              " 'Alien',\n",
              " 'Paths of Glory',\n",
              " 'Django Unchained',\n",
              " '3 Idiots',\n",
              " 'Grave of the Fireflies',\n",
              " 'The Shining',\n",
              " 'M',\n",
              " 'WALL-E',\n",
              " 'Witness for the Prosecution',\n",
              " 'Munna Bhai M.B.B.S.',\n",
              " 'American Beauty',\n",
              " 'Das Boot',\n",
              " 'Princess Mononoke',\n",
              " 'Amelie',\n",
              " 'North by Northwest',\n",
              " 'Rang De Basanti',\n",
              " 'Jodaeiye Nader az Simin',\n",
              " 'Citizen Kane',\n",
              " 'Aliens',\n",
              " 'Vertigo',\n",
              " 'Oldeuboi',\n",
              " 'Once Upon a Time in America',\n",
              " 'Double Indemnity',\n",
              " 'Star Wars: Episode VI - Return of the Jedi',\n",
              " 'Toy Story 3',\n",
              " 'Braveheart',\n",
              " 'To Kill a Mockingbird',\n",
              " 'Requiem for a Dream',\n",
              " 'Lawrence of Arabia',\n",
              " 'A Clockwork Orange',\n",
              " 'Bicycle Thieves',\n",
              " 'The Kid',\n",
              " 'Swades',\n",
              " 'Reservoir Dogs',\n",
              " 'Eternal Sunshine of the Spotless Mind',\n",
              " 'Taxi Driver',\n",
              " 'Dilwale Dulhania Le Jayenge',\n",
              " \"Singin' in the Rain\",\n",
              " 'All About Eve',\n",
              " 'Yojimbo',\n",
              " 'The Sting',\n",
              " 'Rashomon',\n",
              " 'Amadeus',\n",
              " 'The Treasure of the Sierra Madre',\n",
              " 'Monty Python and the Holy Grail',\n",
              " 'Full Metal Jacket',\n",
              " 'The Apartment',\n",
              " 'Ikiru',\n",
              " 'The Third Man',\n",
              " 'Snatch.',\n",
              " 'For a Few Dollars More',\n",
              " 'Metropolis',\n",
              " 'Dil Chahta Hai',\n",
              " '2001: A Space Odyssey',\n",
              " 'Some Like It Hot',\n",
              " 'L.A. Confidential',\n",
              " 'Batman Begins',\n",
              " 'Inglourious Basterds',\n",
              " 'Scarface',\n",
              " 'Mr. Smith Goes to Washington',\n",
              " 'Toy Story',\n",
              " 'Indiana Jones and the Last Crusade',\n",
              " 'Unforgiven',\n",
              " 'The Great Escape',\n",
              " 'Jagten',\n",
              " 'On the Waterfront',\n",
              " 'The General',\n",
              " 'Raging Bull',\n",
              " 'Downfall',\n",
              " 'Up',\n",
              " 'Wild Strawberries',\n",
              " 'The Gold Rush',\n",
              " 'Ran',\n",
              " 'Chinatown',\n",
              " 'My Neighbor Totoro',\n",
              " 'Judgment at Nuremberg',\n",
              " 'Barfi!',\n",
              " 'The Seventh Seal',\n",
              " 'Heat',\n",
              " \"Pan's Labyrinth\",\n",
              " 'The Bridge on the River Kwai',\n",
              " 'Die Hard',\n",
              " 'Good Will Hunting',\n",
              " 'The Wages of Fear',\n",
              " 'The Secret in Their Eyes',\n",
              " 'Lagaan: Once Upon a Time in India',\n",
              " 'The Wolf of Wall Street',\n",
              " 'It Happened One Night',\n",
              " 'Blade Runner',\n",
              " 'Warrior',\n",
              " \"Howl's Moving Castle\",\n",
              " 'The Elephant Man',\n",
              " 'Rebecca',\n",
              " 'Incendies',\n",
              " 'Lock, Stock and Two Smoking Barrels',\n",
              " 'V for Vendetta',\n",
              " 'The Big Lebowski',\n",
              " 'Cool Hand Luke',\n",
              " 'Relatos salvajes',\n",
              " 'Casino',\n",
              " 'Gone with the Wind',\n",
              " 'Gone Girl',\n",
              " 'The Best Years of Our Lives',\n",
              " 'How to Train Your Dragon',\n",
              " 'Diabolique',\n",
              " 'Gran Torino',\n",
              " 'Rush',\n",
              " 'Into the Wild',\n",
              " 'My Sassy Girl',\n",
              " 'The Deer Hunter',\n",
              " 'Mary and Max',\n",
              " \"Hachi: A Dog's Tale\",\n",
              " 'The Maltese Falcon',\n",
              " 'A Beautiful Mind',\n",
              " 'Dial M for Murder',\n",
              " 'Trainspotting',\n",
              " 'Tae Guk Gi: The Brotherhood of War',\n",
              " 'Persona',\n",
              " 'Touch of Evil',\n",
              " 'Fargo',\n",
              " 'The Avengers',\n",
              " 'The 400 Blows',\n",
              " 'The Princess Bride',\n",
              " 'Hotel Rwanda',\n",
              " 'Stalker',\n",
              " 'The Battle of Algiers',\n",
              " 'Underground',\n",
              " 'Fanny and Alexander',\n",
              " 'Network',\n",
              " 'The Thing',\n",
              " 'Butch Cassidy and the Sundance Kid',\n",
              " 'The Grapes of Wrath',\n",
              " 'Black Cat, White Cat',\n",
              " 'Life of Brian',\n",
              " 'The Sixth Sense',\n",
              " 'Finding Nemo',\n",
              " 'Nausicaa of the Valley of the Wind',\n",
              " 'Kingsman: The Secret Service',\n",
              " 'Platoon',\n",
              " 'Guardians of the Galaxy',\n",
              " 'In the Name of the Father',\n",
              " 'Kill Bill: Vol. 1',\n",
              " 'No Country for Old Men',\n",
              " 'Le Samourai',\n",
              " '12 Years a Slave',\n",
              " \"La leggenda del pianista sull'oceano\",\n",
              " '8 1/2',\n",
              " 'Ben-Hur',\n",
              " 'Amores Perros',\n",
              " 'Stand by Me',\n",
              " 'What Ever Happened to Baby Jane?',\n",
              " 'Annie Hall',\n",
              " 'The Imitation Game',\n",
              " 'Laura',\n",
              " 'Departures',\n",
              " 'Infernal Affairs',\n",
              " 'There Will Be Blood',\n",
              " 'The Grand Budapest Hotel',\n",
              " 'La Strada',\n",
              " 'Sin City',\n",
              " 'Memories of Murder',\n",
              " 'Donnie Darko',\n",
              " \"Who's Afraid of Virginia Woolf?\",\n",
              " 'Gandhi',\n",
              " 'Solaris',\n",
              " 'Harry Potter and the Deathly Hallows: Part 2',\n",
              " 'Paris, Texas',\n",
              " 'The Wizard of Oz',\n",
              " '3-Iron',\n",
              " 'Boyhood',\n",
              " 'Million Dollar Baby',\n",
              " 'The Last Picture Show',\n",
              " 'Strangers on a Train',\n",
              " 'Cat on a Hot Tin Roof',\n",
              " 'La Dolce Vita',\n",
              " 'Chungking Express',\n",
              " 'The Night of the Hunter',\n",
              " 'La Haine',\n",
              " 'Yip Man',\n",
              " 'High Noon',\n",
              " 'Notorious',\n",
              " 'Before Sunrise',\n",
              " 'Elite Squad: The Enemy Within',\n",
              " 'The Bourne Ultimatum',\n",
              " 'Castle in the Sky',\n",
              " 'The Celebration',\n",
              " 'Spring, Summer, Fall, Winter... and Spring',\n",
              " 'Shutter Island',\n",
              " 'Barry Lyndon',\n",
              " 'Stalag 17',\n",
              " 'Three Colors: Red',\n",
              " 'X-Men: Days of Future Past',\n",
              " 'Sleuth',\n",
              " 'In the Mood for Love',\n",
              " 'The Man Who Shot Liberty Valance',\n",
              " 'Arsenic and Old Lace',\n",
              " 'The Big Sleep',\n",
              " 'Roman Holiday',\n",
              " 'The Philadelphia Story',\n",
              " 'Akira',\n",
              " 'Anatomy of a Murder',\n",
              " 'The Cabinet of Dr. Caligari',\n",
              " 'The Help',\n",
              " 'The Sea Inside',\n",
              " 'Elite Squad',\n",
              " 'The Hustler',\n",
              " 'Rio Bravo',\n",
              " 'Twelve Monkeys',\n",
              " 'Harvey',\n",
              " 'A Christmas Story',\n",
              " 'Jaws',\n",
              " 'The Raid 2',\n",
              " 'Rocky',\n",
              " 'Wings of Desire',\n",
              " 'Pirates of the Caribbean: The Curse of the Black Pearl',\n",
              " 'The Killing',\n",
              " 'Papillon',\n",
              " \"The King's Speech\",\n",
              " 'Groundhog Day',\n",
              " 'A Fistful of Dollars',\n",
              " 'Monsters, Inc.',\n",
              " 'Dog Day Afternoon',\n",
              " 'The Perks of Being a Wallflower',\n",
              " 'Young Frankenstein',\n",
              " 'The Terminator',\n",
              " 'Harold and Maude',\n",
              " 'Before Sunset',\n",
              " 'A Streetcar Named Desire',\n",
              " 'Bringing Up Baby',\n",
              " 'The Diving Bell and the Butterfly',\n",
              " 'His Girl Friday',\n",
              " 'Sling Blade',\n",
              " 'All Quiet on the Western Front',\n",
              " 'Prisoners',\n",
              " 'The Return',\n",
              " 'The Manchurian Candidate',\n",
              " 'Duck Soup',\n",
              " 'Beauty and the Beast',\n",
              " 'The Truman Show',\n",
              " 'The Wild Bunch',\n",
              " 'Rope',\n",
              " 'The Graduate',\n",
              " 'Jurassic Park',\n",
              " 'Dogville',\n",
              " 'Furious 7',\n",
              " 'Patton',\n",
              " 'The Nightmare Before Christmas',\n",
              " 'Being There',\n",
              " 'Persepolis',\n",
              " 'This Is Spinal Tap',\n",
              " 'East of Eden',\n",
              " 'Pink Floyd The Wall',\n",
              " 'Blood Diamond',\n",
              " 'Big Fish',\n",
              " 'Slumdog Millionaire',\n",
              " 'Star Trek',\n",
              " 'The Straight Story',\n",
              " 'Crimes and Misdemeanors',\n",
              " 'Charade',\n",
              " 'JFK',\n",
              " 'Dawn of the Dead',\n",
              " 'Magnolia',\n",
              " 'Manhattan',\n",
              " 'Central Station',\n",
              " 'Brazil',\n",
              " 'The Exorcist',\n",
              " 'Her',\n",
              " 'Dancer in the Dark',\n",
              " 'Rain Man',\n",
              " 'Talk to Her',\n",
              " 'The Adventures of Robin Hood',\n",
              " 'Aguirre, the Wrath of God',\n",
              " 'In the Heat of the Night',\n",
              " 'Nosferatu',\n",
              " 'Black Swan',\n",
              " 'Ratatouille',\n",
              " 'The Searchers',\n",
              " 'Short Term 12',\n",
              " 'Doctor Zhivago',\n",
              " 'Life of Pi',\n",
              " \"All the President's Men\",\n",
              " 'Battleship Potemkin',\n",
              " 'Dances with Wolves',\n",
              " 'Catch Me If You Can',\n",
              " 'Cinderella Man',\n",
              " 'Dead Poets Society',\n",
              " 'Ghost in the Shell',\n",
              " 'Head-On',\n",
              " \"No Man's Land\",\n",
              " 'Dallas Buyers Club',\n",
              " 'Days of Heaven',\n",
              " 'The Sound of Music',\n",
              " 'District 9',\n",
              " 'Shadow of a Doubt',\n",
              " 'Frankenstein',\n",
              " 'Shaun of the Dead',\n",
              " 'Night of the Living Dead',\n",
              " 'Kill Bill: Vol. 2',\n",
              " 'Secrets & Lies',\n",
              " 'The Artist',\n",
              " 'Aladdin',\n",
              " 'The Lady Vanishes',\n",
              " 'The Hobbit: The Desolation of Smaug',\n",
              " 'Let the Right One In',\n",
              " 'Fiddler on the Roof',\n",
              " 'The Hobbit: An Unexpected Journey',\n",
              " 'Three Colors: Blue',\n",
              " \"Rosemary's Baby\",\n",
              " 'Mystic River',\n",
              " 'Serenity',\n",
              " 'Amarcord',\n",
              " 'Planet of the Apes',\n",
              " 'True Romance',\n",
              " 'Hannah and Her Sisters',\n",
              " 'Moon',\n",
              " 'Before Midnight',\n",
              " 'My Name Is Khan',\n",
              " 'Scent of a Woman',\n",
              " 'Mulholland Dr.',\n",
              " 'King Kong',\n",
              " 'The Fault in Our Stars',\n",
              " 'The Incredibles',\n",
              " 'Edward Scissorhands',\n",
              " 'Casino Royale',\n",
              " 'How to Train Your Dragon 2',\n",
              " 'In Bruges',\n",
              " 'The Untouchables',\n",
              " 'Breathless',\n",
              " 'Spartacus',\n",
              " 'The Iron Giant',\n",
              " 'Midnight Cowboy',\n",
              " 'The Blues Brothers',\n",
              " 'Freaks',\n",
              " 'Letters from Iwo Jima',\n",
              " 'Edge of Tomorrow',\n",
              " 'Glory',\n",
              " 'The African Queen',\n",
              " 'Birdman: Or (The Unexpected Virtue of Ignorance)',\n",
              " 'Big Hero 6',\n",
              " 'Almost Famous',\n",
              " 'The Notebook',\n",
              " 'The Conversation',\n",
              " 'The Breakfast Club',\n",
              " 'The Pursuit of Happyness',\n",
              " 'The Killer',\n",
              " 'Once',\n",
              " 'Ying xiong',\n",
              " 'The Remains of the Day',\n",
              " 'The Bride of Frankenstein',\n",
              " 'The Wrestler',\n",
              " 'Nightcrawler',\n",
              " 'Gravity',\n",
              " 'Hard Boiled',\n",
              " 'Bonnie and Clyde',\n",
              " 'The Bourne Identity',\n",
              " 'Key Largo',\n",
              " 'Nine Queens',\n",
              " 'Toy Story 2',\n",
              " 'The Killing Fields',\n",
              " 'All About My Mother',\n",
              " 'Cowboy Bebop: The Movie',\n",
              " 'Ed Wood',\n",
              " 'Stagecoach',\n",
              " 'The Man Who Would Be King',\n",
              " 'The Outlaw Josey Wales',\n",
              " 'Children of Men',\n",
              " 'The Insider',\n",
              " 'The Right Stuff',\n",
              " 'Badlands',\n",
              " 'A Prophet',\n",
              " '4 Months, 3 Weeks and 2 Days',\n",
              " 'Le passe',\n",
              " 'The Fall',\n",
              " 'Breaking the Waves',\n",
              " 'Mr. Nobody',\n",
              " 'Crash',\n",
              " 'Avatar',\n",
              " 'Iron Man',\n",
              " 'Do the Right Thing',\n",
              " \"Carlito's Way\",\n",
              " 'Crouching Tiger, Hidden Dragon',\n",
              " 'Lilya 4-Ever',\n",
              " 'The Chorus',\n",
              " 'The Boondock Saints',\n",
              " \"Miller's Crossing\",\n",
              " 'Walk the Line',\n",
              " 'Shrek',\n",
              " 'My Fair Lady',\n",
              " 'The Ten Commandments',\n",
              " 'The Fighter',\n",
              " 'Captain Phillips',\n",
              " 'Cabaret',\n",
              " 'Halloween',\n",
              " 'My Left Foot',\n",
              " 'Miracle on 34th Street',\n",
              " 'The Man from Nowhere',\n",
              " 'Toki o kakeru shojo',\n",
              " 'Little Miss Sunshine',\n",
              " 'Taken',\n",
              " 'Blue Is the Warmest Color',\n",
              " 'Boogie Nights',\n",
              " 'Hot Fuzz',\n",
              " \"Ferris Bueller's Day Off\",\n",
              " \"The World's Fastest Indian\",\n",
              " \"Kiki's Delivery Service\",\n",
              " 'Down by Law',\n",
              " 'Glengarry Glen Ross',\n",
              " 'Clerks',\n",
              " \"Adam's Apples\",\n",
              " 'The Girl with the Dragon Tattoo',\n",
              " 'The 39 Steps',\n",
              " 'E.T. the Extra-Terrestrial',\n",
              " 'Tombstone',\n",
              " 'Predator',\n",
              " 'Tangled',\n",
              " \"Guess Who's Coming to Dinner\",\n",
              " 'Ordinary People',\n",
              " 'The Best Offer',\n",
              " 'Silver Linings Playbook',\n",
              " 'Hamlet',\n",
              " 'Amour',\n",
              " 'I Saw the Devil',\n",
              " 'The Motorcycle Diaries',\n",
              " 'Office Space',\n",
              " 'Evil',\n",
              " 'The Girl with the Dragon Tattoo',\n",
              " 'Withnail & I',\n",
              " 'The Day the Earth Stood Still',\n",
              " 'Black Book',\n",
              " 'Evil Dead II',\n",
              " 'Kaze tachinu',\n",
              " 'Star Trek Into Darkness',\n",
              " 'The Triplets of Belleville',\n",
              " 'Open Your Eyes',\n",
              " 'The Magnificent Seven',\n",
              " 'Drive',\n",
              " 'Mississippi Burning',\n",
              " 'The Lego Movie',\n",
              " 'The Day of the Jackal',\n",
              " 'Misery',\n",
              " 'Willy Wonka & the Chocolate Factory',\n",
              " 'Fantasia',\n",
              " 'Gattaca',\n",
              " 'American Gangster',\n",
              " 'Porco Rosso',\n",
              " 'The French Connection',\n",
              " 'The Boy in the Striped Pajamas',\n",
              " 'Empire of the Sun',\n",
              " 'About Time',\n",
              " 'Blue Velvet',\n",
              " 'In America',\n",
              " 'The Curious Case of Benjamin Button',\n",
              " 'The Last of the Mohicans',\n",
              " 'Moonrise Kingdom',\n",
              " 'Rebel Without a Cause',\n",
              " 'Fantastic Mr. Fox',\n",
              " 'Invasion of the Body Snatchers',\n",
              " 'October Sky',\n",
              " 'Dirty Harry',\n",
              " 'Ghostbusters',\n",
              " 'Captain America: The Winter Soldier',\n",
              " 'Wreck-It Ralph',\n",
              " 'The Hangover',\n",
              " 'Back to the Future Part II',\n",
              " 'Belle de Jour',\n",
              " 'O Brother, Where Art Thou?',\n",
              " 'Repulsion',\n",
              " 'Airplane!',\n",
              " 'Pride & Prejudice',\n",
              " 'Zulu',\n",
              " 'Night on Earth',\n",
              " 'From Here to Eternity',\n",
              " 'Apocalypto',\n",
              " 'Atonement',\n",
              " 'The Dirty Dozen',\n",
              " 'X-Men: First Class',\n",
              " 'Run Lola Run',\n",
              " 'The Longest Day',\n",
              " 'Zelig',\n",
              " 'The Last Emperor',\n",
              " 'The Goonies',\n",
              " 'The White Ribbon',\n",
              " 'The Fugitive',\n",
              " 'The Color Purple',\n",
              " 'South Park: Bigger Longer & Uncut',\n",
              " '(500) Days of Summer',\n",
              " 'Lost in Translation',\n",
              " 'Argo',\n",
              " 'Blazing Saddles',\n",
              " \"Breakfast at Tiffany's\",\n",
              " 'Finding Neverland',\n",
              " 'The Experiment',\n",
              " 'Lucky Number Slevin',\n",
              " 'The Theory of Everything',\n",
              " 'Harry Potter and the Prisoner of Azkaban',\n",
              " 'Kung Fu Hustle',\n",
              " 'Being John Malkovich',\n",
              " 'The Social Network',\n",
              " '3:10 to Yuma',\n",
              " 'The Name of the Rose',\n",
              " 'Mary Poppins',\n",
              " 'The Game',\n",
              " 'Changeling',\n",
              " 'Donnie Brasco',\n",
              " 'Serpico',\n",
              " \"What's Eating Gilbert Grape\",\n",
              " 'Goldfinger',\n",
              " 'Nebraska',\n",
              " 'The Sandlot',\n",
              " 'Boyz n the Hood',\n",
              " 'The Bourne Supremacy',\n",
              " 'Skyfall',\n",
              " 'Ray',\n",
              " '300',\n",
              " 'A Bronx Tale',\n",
              " 'The Birds',\n",
              " 'Battle Royale',\n",
              " 'Control',\n",
              " 'Kramer vs. Kramer',\n",
              " 'Deliverance',\n",
              " \"Ocean's Eleven\",\n",
              " 'As Good as It Gets',\n",
              " 'Awakenings',\n",
              " 'The King of Comedy',\n",
              " 'Man on Fire',\n",
              " 'Sabrina',\n",
              " 'Dark City',\n",
              " 'Good Bye Lenin!',\n",
              " 'Remember the Titans',\n",
              " 'Star Trek II: The Wrath of Khan',\n",
              " 'Road to Perdition',\n",
              " 'Rushmore',\n",
              " 'The Machinist',\n",
              " 'Flipped',\n",
              " 'The Count of Monte Cristo',\n",
              " 'Detachment',\n",
              " 'Love Me If You Dare',\n",
              " 'Dead Man',\n",
              " 'The Purple Rose of Cairo',\n",
              " '21 Grams',\n",
              " '50/50',\n",
              " 'Kick-Ass',\n",
              " 'Delicatessen',\n",
              " 'Barton Fink',\n",
              " 'The Last King of Scotland',\n",
              " 'Adaptation.',\n",
              " 'A Very Long Engagement',\n",
              " 'Mysterious Skin',\n",
              " 'Stardust',\n",
              " 'Black Hawk Down',\n",
              " 'Paprika',\n",
              " 'Fear and Loathing in Las Vegas',\n",
              " 'Frost/Nixon',\n",
              " 'Enter the Dragon',\n",
              " 'Short Cuts',\n",
              " \"A Hard Day's Night\",\n",
              " 'The Last Samurai',\n",
              " 'The Station Agent',\n",
              " 'Zombieland',\n",
              " 'Sympathy for Mr. Vengeance',\n",
              " 'Despicable Me',\n",
              " 'Shane',\n",
              " 'Forbidden Planet',\n",
              " 'Titanic',\n",
              " 'Gone Baby Gone',\n",
              " 'The Dinner Game',\n",
              " 'Dawn of the Planet of the Apes',\n",
              " '25th Hour',\n",
              " 'Ponyo',\n",
              " 'Shine',\n",
              " 'The Blind Side',\n",
              " 'Brokeback Mountain',\n",
              " 'Cast Away',\n",
              " 'Malcolm X',\n",
              " 'Show Me Love',\n",
              " 'Boy A',\n",
              " 'The Warriors',\n",
              " 'Close Encounters of the Third Kind',\n",
              " 'Match Point',\n",
              " 'Training Day',\n",
              " 'The Butterfly Effect',\n",
              " 'The City of Lost Children',\n",
              " 'Billy Elliot',\n",
              " 'Love Actually',\n",
              " 'The Producers',\n",
              " 'Harry Potter and the Deathly Hallows: Part 1',\n",
              " 'The Visitor',\n",
              " 'Philadelphia',\n",
              " 'Sense and Sensibility',\n",
              " 'Three Colors: White',\n",
              " 'La grande bellezza',\n",
              " 'Primal Fear',\n",
              " 'Where Eagles Dare',\n",
              " 'Dazed and Confused',\n",
              " 'Blood Simple.',\n",
              " 'This Is England',\n",
              " 'Fearless',\n",
              " 'Dangerous Liaisons',\n",
              " 'Saw',\n",
              " 'Snow White and the Seven Dwarfs',\n",
              " 'Coraline',\n",
              " 'The Hunger Games: Catching Fire',\n",
              " \"Sophie's Choice\",\n",
              " 'La Vie en Rose',\n",
              " 'Star Wars: Episode III - Revenge of the Sith',\n",
              " 'True Grit',\n",
              " 'After Hours',\n",
              " 'Frozen',\n",
              " 'Lolita',\n",
              " 'Eastern Promises',\n",
              " 'Midnight in Paris',\n",
              " 'The Muppet Christmas Carol',\n",
              " 'Who Framed Roger Rabbit',\n",
              " 'Sympathy for Lady Vengeance',\n",
              " 'Grindhouse',\n",
              " 'In a Better World',\n",
              " 'Blow-Up',\n",
              " 'The Secret World of Arrietty',\n",
              " 'Kiss Kiss Bang Bang',\n",
              " 'Lost Highway',\n",
              " 'Zodiac',\n",
              " 'Les Miserables',\n",
              " 'Moulin Rouge!',\n",
              " 'Whale Rider',\n",
              " 'End of Watch',\n",
              " 'Philomena',\n",
              " 'Fury',\n",
              " 'The Big Blue',\n",
              " 'First Blood',\n",
              " 'Minority Report',\n",
              " 'Spellbound',\n",
              " 'The Wicker Man',\n",
              " 'Seven Pounds',\n",
              " 'Midnight Express',\n",
              " \"Kelly's Heroes\",\n",
              " 'MASH',\n",
              " 'The Player',\n",
              " 'Traffic',\n",
              " 'Y Tu Mama Tambien',\n",
              " 'Stranger Than Fiction',\n",
              " 'Inside Man',\n",
              " '127 Hours',\n",
              " 'The Fifth Element',\n",
              " 'Milk',\n",
              " 'United 93',\n",
              " 'Jin ling shi san chai',\n",
              " 'Dracula',\n",
              " 'High Plains Drifter',\n",
              " 'I Am Sam',\n",
              " 'Fried Green Tomatoes',\n",
              " 'Watchmen',\n",
              " '28 Days Later...',\n",
              " 'The Illusionist',\n",
              " 'Superbad',\n",
              " 'The Godfather: Part III',\n",
              " 'The Royal Tenenbaums',\n",
              " 'The Jungle Book',\n",
              " 'Thank You for Smoking',\n",
              " 'Man Bites Dog',\n",
              " 'A Few Good Men',\n",
              " 'The Legend of Drunken Master',\n",
              " 'The Kite Runner',\n",
              " 'When Harry Met Sally...',\n",
              " 'Munich',\n",
              " 'House of Sand and Fog',\n",
              " 'Lethal Weapon',\n",
              " 'Animal House',\n",
              " 'Lord of War',\n",
              " 'Blow',\n",
              " 'Sherlock Holmes',\n",
              " 'Harry Potter and the Goblet of Fire',\n",
              " 'La piel que habito',\n",
              " 'The Crow',\n",
              " 'West Side Story',\n",
              " 'The Thin Red Line',\n",
              " 'American Psycho',\n",
              " 'The Blind Swordsman: Zatoichi',\n",
              " 'The Last Temptation of Christ',\n",
              " 'The Naked Gun: From the Files of Police Squad!',\n",
              " 'The Others',\n",
              " 'The Party',\n",
              " 'Army of Darkness',\n",
              " 'The Hurt Locker',\n",
              " 'The Raid: Redemption',\n",
              " 'Volver',\n",
              " 'Following',\n",
              " 'Kung Fu Panda',\n",
              " 'Mad Max 2: The Road Warrior',\n",
              " 'Jusan-nin no shikaku',\n",
              " \"The Man Who Wasn't There\",\n",
              " 'The Counterfeiters',\n",
              " 'The Hunt for Red October',\n",
              " 'Lone Survivor',\n",
              " 'A Fish Called Wanda',\n",
              " 'The Impossible',\n",
              " 'Garden State',\n",
              " 'Escape from Alcatraz',\n",
              " 'Apollo 13',\n",
              " 'Lust, Caution',\n",
              " 'Selma',\n",
              " 'Funny Games',\n",
              " 'The Abyss',\n",
              " 'Robin Hood',\n",
              " 'Enemy at the Gates',\n",
              " 'Falling Down',\n",
              " 'Little Children',\n",
              " 'Hunger',\n",
              " 'Indiana Jones and the Temple of Doom',\n",
              " 'Ip Man 2',\n",
              " 'The Little Mermaid',\n",
              " \"It's a Mad, Mad, Mad, Mad World\",\n",
              " 'The Reader',\n",
              " 'The Omen',\n",
              " 'A Royal Affair',\n",
              " 'Braindead',\n",
              " 'Secondhand Lions',\n",
              " 'Disconnect',\n",
              " 'A Single Man',\n",
              " 'Hoosiers',\n",
              " 'Moneyball',\n",
              " 'The Book Thief',\n",
              " 'Die Hard: With a Vengeance',\n",
              " 'Interview with the Vampire: The Vampire Chronicles',\n",
              " 'Midnight Run',\n",
              " 'An American Werewolf in London',\n",
              " 'The Great Debaters',\n",
              " 'Tucker and Dale vs. Evil',\n",
              " 'Dead Man Walking',\n",
              " 'The Piano',\n",
              " 'The Town',\n",
              " 'Rise of the Planet of the Apes',\n",
              " \"Boys Don't Cry\",\n",
              " 'Ice Age',\n",
              " 'Of Mice and Men',\n",
              " 'Sideways',\n",
              " 'High Fidelity',\n",
              " 'The Meaning of Life',\n",
              " 'Hugo',\n",
              " 'Leaving Las Vegas',\n",
              " 'The Evil Dead',\n",
              " 'Collateral',\n",
              " 'Planes, Trains & Automobiles',\n",
              " 'Hodejegerne',\n",
              " 'Field of Dreams',\n",
              " 'Batman',\n",
              " 'Tell No One',\n",
              " 'Ghost Dog: The Way of the Samurai',\n",
              " 'Chaplin',\n",
              " 'Keith',\n",
              " 'Juno',\n",
              " 'The Assassination of Jesse James by the Coward Robert Ford',\n",
              " 'The Fisher King',\n",
              " 'House of Flying Daggers',\n",
              " 'The Hours',\n",
              " 'The Damned United',\n",
              " 'Star Trek: First Contact',\n",
              " 'The Natural',\n",
              " 'The Hobbit: The Battle of the Five Armies',\n",
              " 'Equilibrium',\n",
              " 'August Rush',\n",
              " 'Saving Mr. Banks',\n",
              " 'The Hurricane',\n",
              " \"Jacob's Ladder\",\n",
              " 'The Curse of the Were-Rabbit',\n",
              " 'Christmas Vacation',\n",
              " 'Good Night, and Good Luck.',\n",
              " 'Straw Dogs',\n",
              " '42',\n",
              " 'Rudy',\n",
              " 'Sleepers',\n",
              " 'The Wind That Shakes the Barley',\n",
              " 'Gangs of New York',\n",
              " 'Elizabeth',\n",
              " 'Green Street Hooligans',\n",
              " 'Reign Over Me',\n",
              " 'RoboCop',\n",
              " 'The Life of David Gale',\n",
              " 'Life as a House',\n",
              " 'Despicable Me 2',\n",
              " 'Jackie Brown',\n",
              " 'Menace II Society',\n",
              " 'The Class',\n",
              " 'Bullets Over Broadway',\n",
              " 'American Splendor',\n",
              " 'Perfume: The Story of a Murderer',\n",
              " 'Cloud Atlas',\n",
              " 'Marathon Man',\n",
              " 'Pinocchio',\n",
              " 'The Painted Veil',\n",
              " 'A Simple Plan',\n",
              " 'The Conjuring',\n",
              " 'The Man Who Knew Too Much',\n",
              " 'Quiz Show',\n",
              " 'American Graffiti',\n",
              " 'The Bridges of Madison County',\n",
              " 'Gallipoli',\n",
              " \"L'illusionniste\",\n",
              " 'Miracle',\n",
              " 'Maria Full of Grace',\n",
              " 'Scott Pilgrim vs. the World',\n",
              " 'Pleasantville',\n",
              " 'Sherlock Holmes: A Game of Shadows',\n",
              " 'Doubt',\n",
              " 'The Fly',\n",
              " 'The Orphanage',\n",
              " 'Malena',\n",
              " 'Three Days of the Condor',\n",
              " '[Rec]',\n",
              " 'A Perfect World',\n",
              " 'To Catch a Thief',\n",
              " 'Best in Show',\n",
              " 'Everything Is Illuminated',\n",
              " 'A Nightmare on Elm Street',\n",
              " 'The Ice Storm',\n",
              " 'X2',\n",
              " 'We Need to Talk About Kevin',\n",
              " 'Felon',\n",
              " 'Still Alice',\n",
              " 'Rust and Bone',\n",
              " 'Freedom Writers',\n",
              " 'Legends of the Fall',\n",
              " \"Buffalo '66\",\n",
              " 'The Constant Gardener',\n",
              " 'My Cousin Vinny',\n",
              " 'The Texas Chain Saw Massacre',\n",
              " 'Mulan',\n",
              " 'A History of Violence',\n",
              " 'Open Range',\n",
              " 'Total Recall',\n",
              " 'Pi',\n",
              " \"The Devil's Backbone\",\n",
              " 'The Aviator',\n",
              " \"Devil's Advocate\",\n",
              " 'The Adventures of Priscilla, Queen of the Desert',\n",
              " 'Harry Potter and the Half-Blood Prince',\n",
              " 'Fruitvale Station',\n",
              " 'In the Bedroom',\n",
              " 'Source Code',\n",
              " 'Biutiful',\n",
              " 'From Russia with Love',\n",
              " 'Calvary',\n",
              " 'The Mission',\n",
              " 'In the Loop',\n",
              " 'The Three Burials of Melquiades Estrada',\n",
              " 'Babel',\n",
              " 'Frenzy',\n",
              " 'Heavenly Creatures',\n",
              " 'Sweeney Todd: The Demon Barber of Fleet Street',\n",
              " 'Dracula',\n",
              " 'Looper',\n",
              " 'The Proposition',\n",
              " 'Bullitt',\n",
              " \"Harry Potter and the Sorcerer's Stone\",\n",
              " '2046',\n",
              " 'Transamerica',\n",
              " 'Smoke',\n",
              " 'Suspiria',\n",
              " 'The Judge',\n",
              " 'Bad Education',\n",
              " 'Up in the Air',\n",
              " 'Begin Again',\n",
              " 'Running Scared',\n",
              " 'Ghost World',\n",
              " 'Witness',\n",
              " 'Trading Places',\n",
              " 'Mud',\n",
              " 'Across the Universe',\n",
              " 'Les Miserables',\n",
              " 'Notes on a Scandal',\n",
              " 'Inside Llewyn Davis',\n",
              " 'Brick',\n",
              " 'Clerks II',\n",
              " 'Say Anything...',\n",
              " 'Man on the Moon',\n",
              " 'Mean Streets',\n",
              " 'Harry Potter and the Order of the Phoenix',\n",
              " 'Beetlejuice',\n",
              " 'Crazy, Stupid, Love.',\n",
              " 'Excalibur',\n",
              " 'True Grit',\n",
              " 'Labyrinth',\n",
              " 'Alice in Wonderland',\n",
              " 'Predestination',\n",
              " 'Much Ado About Nothing',\n",
              " 'A Bridge Too Far',\n",
              " 'Raising Arizona',\n",
              " 'The Bucket List',\n",
              " 'Terms of Endearment',\n",
              " 'Take Shelter',\n",
              " 'Far from Heaven',\n",
              " 'Eraserhead',\n",
              " 'Frances Ha',\n",
              " 'Home Alone',\n",
              " 'Bound',\n",
              " 'Sleepy Hollow',\n",
              " 'Pirate Radio',\n",
              " 'The NeverEnding Story',\n",
              " 'X-Men',\n",
              " 'Zero Dark Thirty',\n",
              " 'Manhattan Murder Mystery',\n",
              " \"National Lampoon's Vacation\",\n",
              " \"My Sister's Keeper\",\n",
              " 'Deconstructing Harry',\n",
              " 'The Way Way Back',\n",
              " 'Capote',\n",
              " 'Driving Miss Daisy',\n",
              " 'La Femme Nikita',\n",
              " 'Lincoln',\n",
              " 'Limitless',\n",
              " 'The Simpsons Movie',\n",
              " 'The Rock',\n",
              " 'The English Patient',\n",
              " 'Law Abiding Citizen',\n",
              " 'Wonder Boys',\n",
              " 'Death at a Funeral',\n",
              " 'Blue Valentine',\n",
              " 'The Cider House Rules',\n",
              " 'Tootsie',\n",
              " 'Back to the Future Part III',\n",
              " 'Master and Commander: The Far Side of the World',\n",
              " 'Poltergeist',\n",
              " 'Wall Street']"
            ]
          },
          "metadata": {
            "tags": []
          },
          "execution_count": 30
        }
      ]
    },
    {
      "cell_type": "code",
      "metadata": {
        "id": "IsIBnYru0pdu",
        "colab_type": "code",
        "outputId": "7026ac6c-2492-4348-ccac-055e35d62093",
        "colab": {
          "base_uri": "https://localhost:8080/",
          "height": 134
        }
      },
      "source": [
        "# what are the datatypes of values in columns\n",
        "df.dtypes"
      ],
      "execution_count": 0,
      "outputs": [
        {
          "output_type": "execute_result",
          "data": {
            "text/plain": [
              "star_rating       float64\n",
              "title              object\n",
              "content_rating     object\n",
              "genre              object\n",
              "duration            int64\n",
              "actors_list        object\n",
              "dtype: object"
            ]
          },
          "metadata": {
            "tags": []
          },
          "execution_count": 23
        }
      ]
    },
    {
      "cell_type": "code",
      "metadata": {
        "id": "r6vgnxMv0pd2",
        "colab_type": "code",
        "outputId": "e5716dc2-a67a-42e7-c48c-5c887179e72e",
        "colab": {
          "base_uri": "https://localhost:8080/",
          "height": 118
        }
      },
      "source": [
        "# list first 5 movie titles\n",
        "df['title'].head()"
      ],
      "execution_count": 0,
      "outputs": [
        {
          "output_type": "execute_result",
          "data": {
            "text/plain": [
              "0    The Shawshank Redemption\n",
              "1               The Godfather\n",
              "2      The Godfather: Part II\n",
              "3             The Dark Knight\n",
              "4                Pulp Fiction\n",
              "Name: title, dtype: object"
            ]
          },
          "metadata": {
            "tags": []
          },
          "execution_count": 34
        }
      ]
    },
    {
      "cell_type": "code",
      "metadata": {
        "id": "U163p6jH0pd7",
        "colab_type": "code",
        "outputId": "1b0b3f0b-8e96-452c-f9f5-4de4940be979",
        "colab": {
          "base_uri": "https://localhost:8080/",
          "height": 195
        }
      },
      "source": [
        "# show only movie title and genre\n",
        "df[['title','genre']].head()"
      ],
      "execution_count": 0,
      "outputs": [
        {
          "output_type": "execute_result",
          "data": {
            "text/html": [
              "<div>\n",
              "<style scoped>\n",
              "    .dataframe tbody tr th:only-of-type {\n",
              "        vertical-align: middle;\n",
              "    }\n",
              "\n",
              "    .dataframe tbody tr th {\n",
              "        vertical-align: top;\n",
              "    }\n",
              "\n",
              "    .dataframe thead th {\n",
              "        text-align: right;\n",
              "    }\n",
              "</style>\n",
              "<table border=\"1\" class=\"dataframe\">\n",
              "  <thead>\n",
              "    <tr style=\"text-align: right;\">\n",
              "      <th></th>\n",
              "      <th>title</th>\n",
              "      <th>genre</th>\n",
              "    </tr>\n",
              "  </thead>\n",
              "  <tbody>\n",
              "    <tr>\n",
              "      <th>0</th>\n",
              "      <td>The Shawshank Redemption</td>\n",
              "      <td>Crime</td>\n",
              "    </tr>\n",
              "    <tr>\n",
              "      <th>1</th>\n",
              "      <td>The Godfather</td>\n",
              "      <td>Crime</td>\n",
              "    </tr>\n",
              "    <tr>\n",
              "      <th>2</th>\n",
              "      <td>The Godfather: Part II</td>\n",
              "      <td>Crime</td>\n",
              "    </tr>\n",
              "    <tr>\n",
              "      <th>3</th>\n",
              "      <td>The Dark Knight</td>\n",
              "      <td>Action</td>\n",
              "    </tr>\n",
              "    <tr>\n",
              "      <th>4</th>\n",
              "      <td>Pulp Fiction</td>\n",
              "      <td>Crime</td>\n",
              "    </tr>\n",
              "  </tbody>\n",
              "</table>\n",
              "</div>"
            ],
            "text/plain": [
              "                      title   genre\n",
              "0  The Shawshank Redemption   Crime\n",
              "1             The Godfather   Crime\n",
              "2    The Godfather: Part II   Crime\n",
              "3           The Dark Knight  Action\n",
              "4              Pulp Fiction   Crime"
            ]
          },
          "metadata": {
            "tags": []
          },
          "execution_count": 36
        }
      ]
    },
    {
      "cell_type": "markdown",
      "metadata": {
        "id": "AH119hfY0pd_",
        "colab_type": "text"
      },
      "source": [
        "## Understanding columns\n",
        "\n",
        "On the inside, the type of a column is ``pd.Series`` and pandas Series are internally numpy arrays. If you add ``.values`` to the end of any Series, you'll get its internal **numpy array**."
      ]
    },
    {
      "cell_type": "code",
      "metadata": {
        "id": "mPrXG-6U0peA",
        "colab_type": "code",
        "outputId": "9763eee5-d59a-4d7e-ee94-2b91afb33bb3",
        "colab": {
          "base_uri": "https://localhost:8080/",
          "height": 34
        }
      },
      "source": [
        "# show the type of duration column\n",
        "df['duration'].dtypes"
      ],
      "execution_count": 0,
      "outputs": [
        {
          "output_type": "execute_result",
          "data": {
            "text/plain": [
              "dtype('int64')"
            ]
          },
          "metadata": {
            "tags": []
          },
          "execution_count": 41
        }
      ]
    },
    {
      "cell_type": "code",
      "metadata": {
        "id": "eA2DWUrn0peE",
        "colab_type": "code",
        "outputId": "d1fb4f5d-7a20-414a-bff3-98cb0a2d6e2f",
        "colab": {
          "base_uri": "https://localhost:8080/",
          "height": 1000
        }
      },
      "source": [
        "# show duration values of movies as numpy arrays\n",
        "np.array(df['duration'])"
      ],
      "execution_count": 0,
      "outputs": [
        {
          "output_type": "execute_result",
          "data": {
            "text/plain": [
              "array([142, 175, 200, 152, 154,  96, 161, 201, 195, 139, 178, 148, 124,\n",
              "       142, 179, 169, 133, 207, 146, 121, 136, 130, 130, 106, 127, 116,\n",
              "       175, 118, 110,  87, 125, 112, 102, 107, 119,  87, 169, 115, 112,\n",
              "       109, 189, 110, 150, 165, 155, 137, 113, 165,  95, 151, 155, 153,\n",
              "       125, 130, 116,  89, 137, 117,  88, 165, 170,  89, 146,  99,  98,\n",
              "       116, 156, 122, 149, 134, 122, 136, 157, 123, 119, 137, 128, 120,\n",
              "       229, 107, 134, 103, 177, 129, 102, 216, 136,  93,  68, 189,  99,\n",
              "       108, 113, 181, 103, 138, 110, 129,  88, 160, 126,  91, 116, 125,\n",
              "       143,  93, 102, 132, 153, 183, 160, 120, 138, 140, 153, 170, 129,\n",
              "        81, 127, 131, 172, 115, 108, 107, 129, 156,  96,  91,  95, 162,\n",
              "       130,  86, 186, 151,  96, 170, 118, 161, 131, 126, 131, 129, 224,\n",
              "       180, 105, 117, 140, 119, 124, 130, 139, 107, 132, 117, 126, 122,\n",
              "       178, 238, 149, 172,  98, 116, 116, 123, 148, 123, 182,  92,  93,\n",
              "       100, 135, 105,  94, 140,  83,  95,  98, 143,  99,  98, 121, 163,\n",
              "       121, 167, 188, 121, 109, 110, 129, 127,  94, 107, 100, 117, 129,\n",
              "       120, 121, 133, 111, 122, 101, 134, 165, 138, 212, 154,  89, 134,\n",
              "        93, 114,  88, 130, 101, 158,  99, 108, 124, 132, 113, 131, 191,\n",
              "       167, 130, 147, 102,  88, 165, 132, 118, 101, 108, 174,  98,  92,\n",
              "        98, 106,  85, 101, 105, 115, 115, 124, 105, 103, 138, 184, 120,\n",
              "        99, 131, 138,  98, 123, 118, 114, 118, 112, 124, 160,  67, 146,\n",
              "       125, 115, 134, 141, 129, 104,  94, 124, 150, 119, 128, 143,  85,\n",
              "       151, 118, 101,  99,  92, 125, 102, 106, 107,  91,  80, 122, 102,\n",
              "       112,  92, 135, 136, 153, 105, 126,  68,  84, 103, 145,  80, 106,\n",
              "       127, 178, 137, 172,  76, 130,  96,  82, 115,  95, 143, 125, 120,\n",
              "       127, 112, 104, 113, 189, 127, 188,  96, 113, 132, 122, 126, 140,\n",
              "       133, 112, 102,  93, 109,  81, 108, 111, 119,  96, 197, 127, 138,\n",
              "        66, 181, 141, 144, 128,  83, 121,  98, 117,  94, 174, 112, 108,\n",
              "        70,  99,  96, 137, 136, 100,  90,  96, 161, 115, 181, 169,  98,\n",
              "       136, 138, 119, 123, 112, 120, 103,  97, 109, 165, 156, 147, 100,\n",
              "       126, 115, 105, 144, 102, 107, 119,  90, 197,  86, 113, 133,  64,\n",
              "       141, 113, 122, 105, 119, 102, 122, 123, 113,  97, 117, 111,  85,\n",
              "        99, 134,  75, 109, 117,  91, 128, 111, 119, 100, 114,  92, 141,\n",
              "       101, 115, 127,  96, 129, 135, 109, 157, 193,  94, 155, 113, 130,\n",
              "       117, 159, 141, 112, 162, 126, 120, 144, 120, 109,  97, 108, 115,\n",
              "       136,  90, 170, 220, 116, 134, 124,  91, 103,  96, 119,  98, 101,\n",
              "        93, 179, 155, 121, 103, 127, 103, 107, 100,  92,  94, 158,  86,\n",
              "       115, 130, 107, 100, 108, 124, 131, 122, 242, 127, 141, 126,  89,\n",
              "       113, 152, 107,  92, 145,  84, 126, 132,  78, 117, 128, 100, 128,\n",
              "       100, 143, 107, 100, 125, 106, 157,  94, 104,  94, 153, 123, 120,\n",
              "       105, 166, 112,  94, 111,  87,  80, 108, 102, 105, 136, 101, 100,\n",
              "       108, 101, 106, 105,  88, 129, 138, 129, 118, 139, 123, 150, 132,\n",
              "        80, 178,  79, 163, 114, 144, 130, 154,  81,  95, 101, 120,  93,\n",
              "       115, 106, 120, 110, 123, 142,  99, 112, 120, 122, 130, 139, 129,\n",
              "       141, 127, 130, 118, 110, 115, 101, 112, 108, 143, 152, 117, 121,\n",
              "       119, 114, 122, 105, 110, 116, 139, 121, 109, 146, 113, 100, 121,\n",
              "       113, 113, 117,  93, 101,  90, 131,  98,  93, 121,  82, 124, 100,\n",
              "       117,  99, 116, 123, 114, 133, 105, 127, 144,  90, 118, 122, 102,\n",
              "       187,  87, 154,  89,  88, 129,  95, 118,  98, 194, 114,  80, 130,\n",
              "       135, 101, 105, 129, 134, 143, 202,  89, 106,  92, 137, 124, 122,\n",
              "       113, 112, 110, 135,  88, 146, 104, 125, 131,  91, 142, 129, 158,\n",
              "       102,  99, 101, 104, 119, 103,  88, 100, 146, 150, 140, 140, 110,\n",
              "        97, 102, 152, 100,  94,  85, 104, 112, 191, 119, 111,  94, 103,\n",
              "       134, 157, 158, 127, 101, 109,  98, 134, 168,  93, 145, 111,  88,\n",
              "       123, 121, 144, 116, 124, 147, 106, 113, 129,  94, 126, 128, 111,\n",
              "       146,  85, 105, 132, 130, 162, 113, 110, 113, 162, 110,  78,  92,\n",
              "        95, 138, 102, 128,  96, 164, 126, 110, 109, 122, 124, 128, 157,\n",
              "       120, 102, 152, 170, 102, 116, 164,  85, 104,  99,  81, 131, 101,\n",
              "       121,  69,  92,  94, 141, 116,  98, 135, 121, 108, 114, 102, 112,\n",
              "       140, 157, 128, 108, 139,  83, 131, 113, 136,  96, 118, 108,  83,\n",
              "       205, 124, 111, 137, 104, 109, 115,  99, 114, 133, 131, 131, 123,\n",
              "       126,  97, 126,  89, 122, 121, 125, 105, 118,  81, 115, 126, 113,\n",
              "       107, 126, 111,  85, 120,  93, 100, 107, 126, 131, 116, 143,  93,\n",
              "        96, 160, 137, 119, 114,  98, 111, 138, 144, 107, 114, 125, 146,\n",
              "       113,  85,  97,  93, 113, 128, 114, 147, 127, 167, 124, 109, 124,\n",
              "       102, 130, 125,  98, 154,  97, 128,  98, 101, 147, 172, 125,  88,\n",
              "       125, 121, 112, 120, 133, 110, 135, 110,  80, 135, 101, 112, 124,\n",
              "       129, 104,  96, 105, 109, 117,  78, 138, 106,  90, 106,  91, 112,\n",
              "       134, 112, 104, 101, 120, 123, 133, 110, 129, 120,  83,  88,  96,\n",
              "       139, 113,  84, 106, 170, 144, 104, 153,  85, 130,  93, 148, 115,\n",
              "       102, 125, 106, 121, 143, 116,  99, 116, 128, 119, 104, 114, 152,\n",
              "       129, 103, 112,  92, 141, 106, 109, 104, 122, 111, 112, 116, 130,\n",
              "       133, 134,  92, 104, 110,  97, 100, 118, 112, 138,  92, 118, 140,\n",
              "       128, 101,  75,  97, 111, 175,  94,  97, 132, 120, 107,  89,  86,\n",
              "       103, 108, 105, 117, 102, 104, 157, 104,  98, 109,  96, 103, 114,\n",
              "        99, 118, 150, 105,  87, 136, 162, 109, 107,  90, 112, 126, 116,\n",
              "       118, 138, 114, 126])"
            ]
          },
          "metadata": {
            "tags": []
          },
          "execution_count": 43
        }
      ]
    },
    {
      "cell_type": "markdown",
      "metadata": {
        "id": "aYIW5R820peI",
        "colab_type": "text"
      },
      "source": [
        "## Applying functions to columns\n",
        "\n",
        "Use `.apply` function to apply any function to each element of a column."
      ]
    },
    {
      "cell_type": "code",
      "metadata": {
        "id": "PuLXVwYC0peJ",
        "colab_type": "code",
        "outputId": "58fc68d6-8d24-4a56-984f-3d6cbf0fd391",
        "colab": {
          "base_uri": "https://localhost:8080/",
          "height": 195
        }
      },
      "source": [
        "# convert all the movie titles to uppercase\n",
        "'''string=\"Geeks\"\n",
        "string.upper()'''\n",
        "df['title'].apply(upper(),convert_dtype=True)"
      ],
      "execution_count": 0,
      "outputs": [
        {
          "output_type": "error",
          "ename": "NameError",
          "evalue": "ignored",
          "traceback": [
            "\u001b[0;31m---------------------------------------------------------------------------\u001b[0m",
            "\u001b[0;31mNameError\u001b[0m                                 Traceback (most recent call last)",
            "\u001b[0;32m<ipython-input-82-a0589c962715>\u001b[0m in \u001b[0;36m<module>\u001b[0;34m()\u001b[0m\n\u001b[1;32m      1\u001b[0m '''string=\"Geeks\"\n\u001b[1;32m      2\u001b[0m string.upper()'''\n\u001b[0;32m----> 3\u001b[0;31m \u001b[0mdf\u001b[0m\u001b[0;34m[\u001b[0m\u001b[0;34m'title'\u001b[0m\u001b[0;34m]\u001b[0m\u001b[0;34m.\u001b[0m\u001b[0mapply\u001b[0m\u001b[0;34m(\u001b[0m\u001b[0mupper\u001b[0m\u001b[0;34m(\u001b[0m\u001b[0;34m)\u001b[0m\u001b[0;34m,\u001b[0m\u001b[0mconvert_dtype\u001b[0m\u001b[0;34m=\u001b[0m\u001b[0;32mTrue\u001b[0m\u001b[0;34m)\u001b[0m\u001b[0;34m\u001b[0m\u001b[0;34m\u001b[0m\u001b[0m\n\u001b[0m",
            "\u001b[0;31mNameError\u001b[0m: name 'upper' is not defined"
          ]
        }
      ]
    },
    {
      "cell_type": "markdown",
      "metadata": {
        "id": "me2CIyrf0peM",
        "colab_type": "text"
      },
      "source": [
        "## Plotting a column\n",
        "\n",
        "Use ``.plot()`` function!"
      ]
    },
    {
      "cell_type": "code",
      "metadata": {
        "id": "hYfNpgcB0peN",
        "colab_type": "code",
        "colab": {}
      },
      "source": [
        "# plot the bikers travelling to Berri1 over the year"
      ],
      "execution_count": 0,
      "outputs": []
    },
    {
      "cell_type": "code",
      "metadata": {
        "id": "7LGSheVk0peQ",
        "colab_type": "code",
        "colab": {}
      },
      "source": [
        "# plot all the columns of bikes_df"
      ],
      "execution_count": 0,
      "outputs": []
    },
    {
      "cell_type": "markdown",
      "metadata": {
        "id": "16NKmkVr0peS",
        "colab_type": "text"
      },
      "source": [
        "## Value counts\n",
        "\n",
        "Get count of unique values in a particular column/Series."
      ]
    },
    {
      "cell_type": "code",
      "metadata": {
        "id": "3Gt2CQNo0peT",
        "colab_type": "code",
        "colab": {}
      },
      "source": [
        "# what are the unique genre in imdb_df?"
      ],
      "execution_count": 0,
      "outputs": []
    },
    {
      "cell_type": "code",
      "metadata": {
        "id": "ewUsIGYL0peW",
        "colab_type": "code",
        "colab": {}
      },
      "source": [
        "# plotting value counts of unique genres as a bar chart"
      ],
      "execution_count": 0,
      "outputs": []
    },
    {
      "cell_type": "code",
      "metadata": {
        "id": "a2-E6WzK0peY",
        "colab_type": "code",
        "colab": {}
      },
      "source": [
        "# plotting value counts of unique genres as a pie chart"
      ],
      "execution_count": 0,
      "outputs": []
    },
    {
      "cell_type": "markdown",
      "metadata": {
        "id": "s2UqZeXk0peb",
        "colab_type": "text"
      },
      "source": [
        "## Index\n",
        "\n",
        "### DATAFRAME = COLUMNS + INDEX + ND DATA\n",
        "\n",
        "### SERIES = INDEX + 1-D DATA\n",
        "\n",
        "**Index** or (**row labels**) is one of the fundamental data structure of pandas. It can be thought of as an **immutable array** and an **ordered set**.\n",
        "\n",
        "> Every row is uniquely identified by its index value."
      ]
    },
    {
      "cell_type": "code",
      "metadata": {
        "id": "6f4tLzhc0peb",
        "colab_type": "code",
        "colab": {}
      },
      "source": [
        "# show index of bikes_df"
      ],
      "execution_count": 0,
      "outputs": []
    },
    {
      "cell_type": "code",
      "metadata": {
        "id": "PjNeD06q0pef",
        "colab_type": "code",
        "colab": {}
      },
      "source": [
        "# get row for date 2012-01-01"
      ],
      "execution_count": 0,
      "outputs": []
    },
    {
      "cell_type": "markdown",
      "metadata": {
        "id": "bnqdsBwJ0pei",
        "colab_type": "text"
      },
      "source": [
        "#### To get row by integer index:\n",
        "\n",
        "Use ``.iloc[]`` for purely integer-location based indexing for selection by position."
      ]
    },
    {
      "cell_type": "code",
      "metadata": {
        "id": "_B7-fal10pek",
        "colab_type": "code",
        "colab": {}
      },
      "source": [
        "# show 11th row of imdb_df using iloc"
      ],
      "execution_count": 0,
      "outputs": []
    },
    {
      "cell_type": "markdown",
      "metadata": {
        "id": "jf_5s3w50pel",
        "colab_type": "text"
      },
      "source": [
        "## Selecting rows where column has a particular value"
      ]
    },
    {
      "cell_type": "code",
      "metadata": {
        "id": "rt3alJDU0pem",
        "colab_type": "code",
        "colab": {}
      },
      "source": [
        "# select only those movies where genre is adventure"
      ],
      "execution_count": 0,
      "outputs": []
    },
    {
      "cell_type": "code",
      "metadata": {
        "id": "kfh0hns10peo",
        "colab_type": "code",
        "colab": {}
      },
      "source": [
        "# which genre has highest number of movies with star rating above 8 and duration more than 130 minutes?"
      ],
      "execution_count": 0,
      "outputs": []
    },
    {
      "cell_type": "markdown",
      "metadata": {
        "id": "msEcETEH0peq",
        "colab_type": "text"
      },
      "source": [
        "## Adding a new column to DataFrame"
      ]
    },
    {
      "cell_type": "code",
      "metadata": {
        "id": "yrKI20fq0peq",
        "colab_type": "code",
        "colab": {}
      },
      "source": [
        "# add a weekday column to bikes_df"
      ],
      "execution_count": 0,
      "outputs": []
    },
    {
      "cell_type": "markdown",
      "metadata": {
        "id": "Equ29Elk0pet",
        "colab_type": "text"
      },
      "source": [
        "## Deleting an existing column from DataFrame"
      ]
    },
    {
      "cell_type": "code",
      "metadata": {
        "id": "tKQgu6Q70pet",
        "colab_type": "code",
        "colab": {}
      },
      "source": [
        "# remove column 'Unnamed: 1' from bikes_df"
      ],
      "execution_count": 0,
      "outputs": []
    },
    {
      "cell_type": "markdown",
      "metadata": {
        "id": "wIfIZUOc0pev",
        "colab_type": "text"
      },
      "source": [
        "## Deleting a row in DataFrame"
      ]
    },
    {
      "cell_type": "code",
      "metadata": {
        "id": "kOY4iaxw0pew",
        "colab_type": "code",
        "colab": {}
      },
      "source": [
        "# remove row no. 1 from bikes_df"
      ],
      "execution_count": 0,
      "outputs": []
    },
    {
      "cell_type": "markdown",
      "metadata": {
        "id": "X97krsEe0pex",
        "colab_type": "text"
      },
      "source": [
        "## Group By\n",
        "\n",
        "Any groupby operation involves one of the following operations on the original object. They are −\n",
        "\n",
        "- Splitting the Object\n",
        "\n",
        "- Applying a function\n",
        "\n",
        "- Combining the results\n",
        "\n",
        "In many situations, we split the data into sets and we apply some functionality on each subset. In the apply functionality, we can perform the following operations −\n",
        "\n",
        "- **Aggregation** − computing a summary statistic\n",
        "\n",
        "- **Transformation** − perform some group-specific operation\n",
        "\n",
        "- **Filtration** − discarding the data with some condition"
      ]
    },
    {
      "cell_type": "code",
      "metadata": {
        "id": "w0ItnPti0pey",
        "colab_type": "code",
        "colab": {}
      },
      "source": [
        "# group imdb_df by movie genres"
      ],
      "execution_count": 0,
      "outputs": []
    },
    {
      "cell_type": "code",
      "metadata": {
        "id": "EF6LYzK10pe0",
        "colab_type": "code",
        "colab": {}
      },
      "source": [
        "# get crime movies group"
      ],
      "execution_count": 0,
      "outputs": []
    },
    {
      "cell_type": "code",
      "metadata": {
        "id": "11HEJ5vT0pe3",
        "colab_type": "code",
        "colab": {}
      },
      "source": [
        "# get mean of movie durations for each group"
      ],
      "execution_count": 0,
      "outputs": []
    },
    {
      "cell_type": "code",
      "metadata": {
        "id": "rwZh_sJx0pe4",
        "colab_type": "code",
        "colab": {}
      },
      "source": [
        "# change duration of all movies in a particular genre to mean duration of the group"
      ],
      "execution_count": 0,
      "outputs": []
    },
    {
      "cell_type": "code",
      "metadata": {
        "id": "Zi6LGmmL0pe6",
        "colab_type": "code",
        "colab": {}
      },
      "source": [
        "# drop groups/genres that do not have average movie duration greater than 120."
      ],
      "execution_count": 0,
      "outputs": []
    },
    {
      "cell_type": "code",
      "metadata": {
        "id": "lBBODgNY0pe8",
        "colab_type": "code",
        "colab": {}
      },
      "source": [
        "# group weekday wise bikers count"
      ],
      "execution_count": 0,
      "outputs": []
    },
    {
      "cell_type": "code",
      "metadata": {
        "id": "a7-g6SBw0pe-",
        "colab_type": "code",
        "colab": {}
      },
      "source": [
        "# get weekday wise biker count"
      ],
      "execution_count": 0,
      "outputs": []
    },
    {
      "cell_type": "code",
      "metadata": {
        "id": "w-JKKiee0pfB",
        "colab_type": "code",
        "colab": {}
      },
      "source": [
        "# plot weekday wise biker count for 'Berri1'"
      ],
      "execution_count": 0,
      "outputs": []
    },
    {
      "cell_type": "markdown",
      "metadata": {
        "id": "oVaFdV_n0pfD",
        "colab_type": "text"
      },
      "source": [
        "![](https://memegenerator.net/img/instances/500x/73988569/pythonpandas-is-easy-import-and-go.jpg)"
      ]
    }
  ]
}